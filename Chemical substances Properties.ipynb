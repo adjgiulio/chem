{
 "cells": [
  {
   "cell_type": "markdown",
   "metadata": {},
   "source": [
    "# Analyze properties of chemical substances"
   ]
  },
  {
   "cell_type": "code",
   "execution_count": 29,
   "metadata": {
    "collapsed": true
   },
   "outputs": [],
   "source": [
    "import pandas as pd\n",
    "import numpy as np\n",
    "%matplotlib inline"
   ]
  },
  {
   "cell_type": "markdown",
   "metadata": {},
   "source": [
    "## Read the unstructured data from a text file and create a dictionary"
   ]
  },
  {
   "cell_type": "code",
   "execution_count": 4,
   "metadata": {
    "collapsed": false
   },
   "outputs": [
    {
     "name": "stdout",
     "output_type": "stream",
     "text": [
      "0 1000 2000 3000 4000 5000 6000 7000 8000 9000 10000\n"
     ]
    }
   ],
   "source": [
    "chem_data_file_name = \"F:\\\\My Documents\\\\components.cif.txt\"\n",
    "chem_data_items = []\n",
    "\n",
    "# Builds the chem_data_items list.\n",
    "begin = 49\n",
    "end = -2\n",
    "chem_data_file = open(chem_data_file_name, \"r\")\n",
    "for k,line in enumerate(chem_data_file.readlines()):\n",
    "    if k>10000:\n",
    "        break\n",
    "    if line.startswith(\"data\"):\n",
    "        chem_data_items.append({})\n",
    "    else:\n",
    "        if line.startswith(\"_chem_comp.id\"):\n",
    "            chem_data_items[-1].update({\"id\": line[begin:end]})\n",
    "        elif line.startswith(\"_chem_comp.name\"):\n",
    "            chem_data_items[-1].update({\"name\": line[begin:end]})\n",
    "        elif line.startswith(\"_chem_comp.type\"):\n",
    "            chem_data_items[-1].update({\"type\": line[begin:end]})\n",
    "        elif line.startswith(\"_chem_comp.pdbx_type\"):\n",
    "            chem_data_items[-1].update({\"pdbx_type\": line[begin:end]})\n",
    "        elif line.startswith(\"_chem_comp.mon_nstd_parent_comp_id\"):\n",
    "            chem_data_items[-1].update({\"mon_nstd_parent_comp_id\": line[begin:end]})\n",
    "        elif line.startswith(\"_chem_comp.three_letter_code\"):\n",
    "            chem_data_items[-1].update({\"three_letter_code\": line[begin:end]})\n",
    "        elif line.startswith(\"_chem_comp.pdbx_model_coordinates_db_code\"):\n",
    "            chem_data_items[-1].update({\"pdb_code\": line[begin:end]})\n",
    "    if k%1000==0:\n",
    "        print k,\n",
    "chem_data_file.close()"
   ]
  },
  {
   "cell_type": "markdown",
   "metadata": {},
   "source": [
    "## Read the dictionary into a Pandas Data Frame"
   ]
  },
  {
   "cell_type": "code",
   "execution_count": 10,
   "metadata": {
    "collapsed": false
   },
   "outputs": [],
   "source": [
    "df = pd.DataFrame.from_dict(chem_data_items, orient='columns', dtype=None)"
   ]
  },
  {
   "cell_type": "code",
   "execution_count": 26,
   "metadata": {
    "collapsed": false
   },
   "outputs": [
    {
     "data": {
      "text/plain": [
       "(55, 7)"
      ]
     },
     "execution_count": 26,
     "metadata": {},
     "output_type": "execute_result"
    }
   ],
   "source": [
    "#just check the shape\n",
    "df.shape"
   ]
  },
  {
   "cell_type": "code",
   "execution_count": 27,
   "metadata": {
    "collapsed": false
   },
   "outputs": [
    {
     "data": {
      "text/html": [
       "<div>\n",
       "<table border=\"1\" class=\"dataframe\">\n",
       "  <thead>\n",
       "    <tr style=\"text-align: right;\">\n",
       "      <th></th>\n",
       "      <th>id</th>\n",
       "      <th>mon_nstd_parent_comp_id</th>\n",
       "      <th>name</th>\n",
       "      <th>pdb_code</th>\n",
       "      <th>pdbx_type</th>\n",
       "      <th>three_letter_code</th>\n",
       "      <th>type</th>\n",
       "    </tr>\n",
       "  </thead>\n",
       "  <tbody>\n",
       "    <tr>\n",
       "      <th>0</th>\n",
       "      <td>000</td>\n",
       "      <td>?</td>\n",
       "      <td>\"methyl hydrogen carbonate\"</td>\n",
       "      <td>3LIN</td>\n",
       "      <td>ATOMP</td>\n",
       "      <td>000</td>\n",
       "      <td>NON-POLYMER</td>\n",
       "    </tr>\n",
       "    <tr>\n",
       "      <th>1</th>\n",
       "      <td>001</td>\n",
       "      <td>?</td>\n",
       "      <td>\"1-[2,2-DIFLUORO-2-(3,4,5-TRIMETHOXY-PHENYL)-A...</td>\n",
       "      <td>1J4R</td>\n",
       "      <td>HETAIN</td>\n",
       "      <td>001</td>\n",
       "      <td>NON-POLYMER</td>\n",
       "    </tr>\n",
       "    <tr>\n",
       "      <th>2</th>\n",
       "      <td>002</td>\n",
       "      <td>?</td>\n",
       "      <td>\"N-[(2R)-2-BENZYL-4-(HYDROXYAMINO)-4-OXOBUTANO...</td>\n",
       "      <td>2FV9</td>\n",
       "      <td>HETAIN</td>\n",
       "      <td>002</td>\n",
       "      <td>NON-POLYMER</td>\n",
       "    </tr>\n",
       "    <tr>\n",
       "      <th>3</th>\n",
       "      <td>003</td>\n",
       "      <td>?</td>\n",
       "      <td>\"5-METHYL-7-(2-METHYLPROPYL)-2-(NAPHTHALEN-1-Y...</td>\n",
       "      <td>?</td>\n",
       "      <td>HETAIN</td>\n",
       "      <td>003</td>\n",
       "      <td>NON-POLYMER</td>\n",
       "    </tr>\n",
       "    <tr>\n",
       "      <th>4</th>\n",
       "      <td>004</td>\n",
       "      <td>?</td>\n",
       "      <td>\"(2S)-amino(phenyl)ethanoic acid\"</td>\n",
       "      <td>3LIN</td>\n",
       "      <td>ATOMP</td>\n",
       "      <td>004</td>\n",
       "      <td>\"L-PEPTIDE LINKING\"</td>\n",
       "    </tr>\n",
       "  </tbody>\n",
       "</table>\n",
       "</div>"
      ],
      "text/plain": [
       "    id mon_nstd_parent_comp_id  \\\n",
       "0  000                       ?   \n",
       "1  001                       ?   \n",
       "2  002                       ?   \n",
       "3  003                       ?   \n",
       "4  004                       ?   \n",
       "\n",
       "                                                name pdb_code pdbx_type  \\\n",
       "0                        \"methyl hydrogen carbonate\"     3LIN     ATOMP   \n",
       "1  \"1-[2,2-DIFLUORO-2-(3,4,5-TRIMETHOXY-PHENYL)-A...     1J4R    HETAIN   \n",
       "2  \"N-[(2R)-2-BENZYL-4-(HYDROXYAMINO)-4-OXOBUTANO...     2FV9    HETAIN   \n",
       "3  \"5-METHYL-7-(2-METHYLPROPYL)-2-(NAPHTHALEN-1-Y...        ?    HETAIN   \n",
       "4                  \"(2S)-amino(phenyl)ethanoic acid\"     3LIN     ATOMP   \n",
       "\n",
       "  three_letter_code                 type  \n",
       "0               000          NON-POLYMER  \n",
       "1               001          NON-POLYMER  \n",
       "2               002          NON-POLYMER  \n",
       "3               003          NON-POLYMER  \n",
       "4               004  \"L-PEPTIDE LINKING\"  "
      ]
     },
     "execution_count": 27,
     "metadata": {},
     "output_type": "execute_result"
    }
   ],
   "source": [
    "#visualize a sample\n",
    "df.head()"
   ]
  },
  {
   "cell_type": "markdown",
   "metadata": {},
   "source": [
    "## Examples of counts and other basic analytics"
   ]
  },
  {
   "cell_type": "code",
   "execution_count": 17,
   "metadata": {
    "collapsed": false
   },
   "outputs": [
    {
     "data": {
      "text/plain": [
       "NON-POLYMER            25\n",
       "peptide-like           23\n",
       "\"D-PEPTIDE LINKING\"     2\n",
       "\"L-PEPTIDE LINKING\"     2\n",
       "PEPTIDE-LIKE            1\n",
       "non-polymer             1\n",
       "\"PEPTIDE LINKING\"       1\n",
       "Name: type, dtype: int64"
      ]
     },
     "execution_count": 17,
     "metadata": {},
     "output_type": "execute_result"
    }
   ],
   "source": [
    "#get the top values by volume\n",
    "df.type.value_counts()"
   ]
  },
  {
   "cell_type": "code",
   "execution_count": 18,
   "metadata": {
    "collapsed": false
   },
   "outputs": [
    {
     "data": {
      "text/plain": [
       "NON-POLYMER            0.454545\n",
       "peptide-like           0.418182\n",
       "\"D-PEPTIDE LINKING\"    0.036364\n",
       "\"L-PEPTIDE LINKING\"    0.036364\n",
       "PEPTIDE-LIKE           0.018182\n",
       "non-polymer            0.018182\n",
       "\"PEPTIDE LINKING\"      0.018182\n",
       "Name: type, dtype: float64"
      ]
     },
     "execution_count": 18,
     "metadata": {},
     "output_type": "execute_result"
    }
   ],
   "source": [
    "#same as before but get % instead of actual counts\n",
    "df.type.value_counts(normalize=True)"
   ]
  },
  {
   "cell_type": "code",
   "execution_count": 31,
   "metadata": {
    "collapsed": false
   },
   "outputs": [
    {
     "data": {
      "text/plain": [
       "<matplotlib.axes._subplots.AxesSubplot at 0x1b3a45d0>"
      ]
     },
     "execution_count": 31,
     "metadata": {},
     "output_type": "execute_result"
    },
    {
     "data": {
      "image/png": "[encoded data removed]",
      "text/plain": [
       "<matplotlib.figure.Figure at 0x1b3ac4f0>"
      ]
     },
     "metadata": {},
     "output_type": "display_data"
    }
   ],
   "source": [
    "#could also plot the data\n",
    "df.type.value_counts(normalize=True).plot(kind='bar')"
   ]
  },
  {
   "cell_type": "code",
   "execution_count": 22,
   "metadata": {
    "collapsed": false
   },
   "outputs": [
    {
     "data": {
      "text/plain": [
       "HETAIN    0.913043\n",
       "ATOMP     0.086957\n",
       "Name: pdbx_type, dtype: float64"
      ]
     },
     "execution_count": 22,
     "metadata": {},
     "output_type": "execute_result"
    }
   ],
   "source": [
    "#you can slice the data, for example filter only on one type\n",
    "df_peplike = df[df.type == 'peptide-like']\n",
    "#and then look at the distribution of pdbx_type on the filetered data\n",
    "df_peplike.pdbx_type.value_counts(normalize=True)"
   ]
  },
  {
   "cell_type": "code",
   "execution_count": 25,
   "metadata": {
    "collapsed": false
   },
   "outputs": [
    {
     "data": {
      "text/plain": [
       "pdbx_type  type               \n",
       "ATOMP      \"D-PEPTIDE LINKING\"    0.222222\n",
       "           \"L-PEPTIDE LINKING\"    0.222222\n",
       "           NON-POLYMER            0.222222\n",
       "           peptide-like           0.222222\n",
       "           \"PEPTIDE LINKING\"      0.111111\n",
       "HETAIN     NON-POLYMER            0.500000\n",
       "           peptide-like           0.456522\n",
       "           PEPTIDE-LIKE           0.021739\n",
       "           non-polymer            0.021739\n",
       "dtype: float64"
      ]
     },
     "execution_count": 25,
     "metadata": {},
     "output_type": "execute_result"
    }
   ],
   "source": [
    "#you can count by goups. For example: distribution of type by pdbx_type  \n",
    "df.groupby('pdbx_type').type.value_counts(normalize=True)"
   ]
  },
  {
   "cell_type": "code",
   "execution_count": null,
   "metadata": {
    "collapsed": true
   },
   "outputs": [],
   "source": []
  }
 ],
 "metadata": {
  "kernelspec": {
   "display_name": "Python 2",
   "language": "python",
   "name": "python2"
  },
  "language_info": {
   "codemirror_mode": {
    "name": "ipython",
    "version": 2
   },
   "file_extension": ".py",
   "mimetype": "text/x-python",
   "name": "python",
   "nbconvert_exporter": "python",
   "pygments_lexer": "ipython2",
   "version": "2.7.11"
  }
 },
 "nbformat": 4,
 "nbformat_minor": 0
}
